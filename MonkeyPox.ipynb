{
 "cells": [
  {
   "cell_type": "code",
   "execution_count": 24,
   "id": "e6d3b13e",
   "metadata": {},
   "outputs": [],
   "source": [
    "import pandas as pd\n",
    "import numpy as np\n",
    "import os\n",
    "from sqlalchemy import create_engine"
   ]
  },
  {
   "cell_type": "code",
   "execution_count": 12,
   "id": "6177634e",
   "metadata": {},
   "outputs": [],
   "source": [
    "##################################Set up files location and names\n",
    "path='../Resources'\n",
    "\n",
    "mp_df='monkeypox_df.csv'\n",
    "mp_daily='Daily_Country_Wise_Confirmed_Cases.csv'\n",
    "mp_worldwide='Monkey_Pox_Cases_Worldwide.csv'\n",
    "mp_casedetection='Worldwide_Case_Detection_Timeline.csv'\n",
    "\n",
    "\n"
   ]
  },
  {
   "cell_type": "code",
   "execution_count": 13,
   "id": "cf1bfd97",
   "metadata": {},
   "outputs": [],
   "source": [
    "os.chdir(path)"
   ]
  },
  {
   "cell_type": "code",
   "execution_count": 22,
   "id": "c0f5f495",
   "metadata": {},
   "outputs": [],
   "source": [
    "############################# mp_df data handling ################################################\n",
    "individual_transformed=pd.read_csv(mp_df)\n",
    "individual_transformed.rename(columns={'Hospitalised (Y/N/NA)':'isHospitalised','Isolated (Y/N/NA)':'isIsolated','Travel_history (Y/N/NA)':'hasTravelHistory'},inplace=True)\n",
    "individual_transformed=individual_transformed.drop(individual_transformed.iloc[:, 20:30],axis = 1)"
   ]
  },
  {
   "cell_type": "code",
   "execution_count": 23,
   "id": "41a2165f",
   "metadata": {},
   "outputs": [
    {
     "data": {
      "text/html": [
       "<div>\n",
       "<style scoped>\n",
       "    .dataframe tbody tr th:only-of-type {\n",
       "        vertical-align: middle;\n",
       "    }\n",
       "\n",
       "    .dataframe tbody tr th {\n",
       "        vertical-align: top;\n",
       "    }\n",
       "\n",
       "    .dataframe thead th {\n",
       "        text-align: right;\n",
       "    }\n",
       "</style>\n",
       "<table border=\"1\" class=\"dataframe\">\n",
       "  <thead>\n",
       "    <tr style=\"text-align: right;\">\n",
       "      <th></th>\n",
       "      <th>ID</th>\n",
       "      <th>Status</th>\n",
       "      <th>Location</th>\n",
       "      <th>City</th>\n",
       "      <th>Country</th>\n",
       "      <th>Age</th>\n",
       "      <th>Gender</th>\n",
       "      <th>Date_onset</th>\n",
       "      <th>Date_confirmation</th>\n",
       "      <th>Symptoms</th>\n",
       "      <th>...</th>\n",
       "      <th>Date_hospitalisation</th>\n",
       "      <th>isIsolated</th>\n",
       "      <th>Date_isolation</th>\n",
       "      <th>Outcome</th>\n",
       "      <th>Contact_comment</th>\n",
       "      <th>Contact_ID</th>\n",
       "      <th>Contact_location</th>\n",
       "      <th>hasTravelHistory</th>\n",
       "      <th>Travel_history_entry</th>\n",
       "      <th>Country_ISO3</th>\n",
       "    </tr>\n",
       "  </thead>\n",
       "  <tbody>\n",
       "    <tr>\n",
       "      <th>0</th>\n",
       "      <td>1.0</td>\n",
       "      <td>confirmed</td>\n",
       "      <td>Guy's and St Thomas Hospital London</td>\n",
       "      <td>London</td>\n",
       "      <td>England</td>\n",
       "      <td>NaN</td>\n",
       "      <td>NaN</td>\n",
       "      <td>2022-04-29</td>\n",
       "      <td>2022-05-06</td>\n",
       "      <td>rash</td>\n",
       "      <td>...</td>\n",
       "      <td>2022-05-04</td>\n",
       "      <td>Y</td>\n",
       "      <td>2022-05-04</td>\n",
       "      <td>NaN</td>\n",
       "      <td>NaN</td>\n",
       "      <td>NaN</td>\n",
       "      <td>NaN</td>\n",
       "      <td>Y</td>\n",
       "      <td>2022-05-04</td>\n",
       "      <td>GBR</td>\n",
       "    </tr>\n",
       "    <tr>\n",
       "      <th>1</th>\n",
       "      <td>2.0</td>\n",
       "      <td>confirmed</td>\n",
       "      <td>Guy's and St Thomas Hospital London</td>\n",
       "      <td>London</td>\n",
       "      <td>England</td>\n",
       "      <td>NaN</td>\n",
       "      <td>NaN</td>\n",
       "      <td>2022-05-05</td>\n",
       "      <td>2022-05-12</td>\n",
       "      <td>rash</td>\n",
       "      <td>...</td>\n",
       "      <td>2022-05-06</td>\n",
       "      <td>Y</td>\n",
       "      <td>2022-05-09</td>\n",
       "      <td>NaN</td>\n",
       "      <td>Index Case of household cluster</td>\n",
       "      <td>3.0</td>\n",
       "      <td>Household</td>\n",
       "      <td>N</td>\n",
       "      <td>NaN</td>\n",
       "      <td>GBR</td>\n",
       "    </tr>\n",
       "    <tr>\n",
       "      <th>2</th>\n",
       "      <td>3.0</td>\n",
       "      <td>confirmed</td>\n",
       "      <td>London</td>\n",
       "      <td>London</td>\n",
       "      <td>England</td>\n",
       "      <td>NaN</td>\n",
       "      <td>NaN</td>\n",
       "      <td>2022-04-30</td>\n",
       "      <td>2022-05-13</td>\n",
       "      <td>vesicular rash</td>\n",
       "      <td>...</td>\n",
       "      <td>NaN</td>\n",
       "      <td>Y</td>\n",
       "      <td>NaN</td>\n",
       "      <td>NaN</td>\n",
       "      <td>NaN</td>\n",
       "      <td>2.0</td>\n",
       "      <td>Household</td>\n",
       "      <td>N</td>\n",
       "      <td>NaN</td>\n",
       "      <td>GBR</td>\n",
       "    </tr>\n",
       "    <tr>\n",
       "      <th>3</th>\n",
       "      <td>4.0</td>\n",
       "      <td>confirmed</td>\n",
       "      <td>London</td>\n",
       "      <td>London</td>\n",
       "      <td>England</td>\n",
       "      <td>NaN</td>\n",
       "      <td>male</td>\n",
       "      <td>NaN</td>\n",
       "      <td>2022-05-15</td>\n",
       "      <td>vesicular rash</td>\n",
       "      <td>...</td>\n",
       "      <td>NaN</td>\n",
       "      <td>Y</td>\n",
       "      <td>NaN</td>\n",
       "      <td>NaN</td>\n",
       "      <td>Under investigation</td>\n",
       "      <td>NaN</td>\n",
       "      <td>NaN</td>\n",
       "      <td>N</td>\n",
       "      <td>NaN</td>\n",
       "      <td>GBR</td>\n",
       "    </tr>\n",
       "    <tr>\n",
       "      <th>4</th>\n",
       "      <td>5.0</td>\n",
       "      <td>confirmed</td>\n",
       "      <td>London</td>\n",
       "      <td>London</td>\n",
       "      <td>England</td>\n",
       "      <td>NaN</td>\n",
       "      <td>male</td>\n",
       "      <td>NaN</td>\n",
       "      <td>2022-05-15</td>\n",
       "      <td>vesicular rash</td>\n",
       "      <td>...</td>\n",
       "      <td>NaN</td>\n",
       "      <td>Y</td>\n",
       "      <td>NaN</td>\n",
       "      <td>NaN</td>\n",
       "      <td>Under investigation</td>\n",
       "      <td>NaN</td>\n",
       "      <td>NaN</td>\n",
       "      <td>N</td>\n",
       "      <td>NaN</td>\n",
       "      <td>GBR</td>\n",
       "    </tr>\n",
       "  </tbody>\n",
       "</table>\n",
       "<p>5 rows × 21 columns</p>\n",
       "</div>"
      ],
      "text/plain": [
       "    ID     Status                             Location    City  Country  Age  \\\n",
       "0  1.0  confirmed  Guy's and St Thomas Hospital London  London  England  NaN   \n",
       "1  2.0  confirmed  Guy's and St Thomas Hospital London  London  England  NaN   \n",
       "2  3.0  confirmed                               London  London  England  NaN   \n",
       "3  4.0  confirmed                               London  London  England  NaN   \n",
       "4  5.0  confirmed                               London  London  England  NaN   \n",
       "\n",
       "  Gender  Date_onset Date_confirmation        Symptoms  ...  \\\n",
       "0    NaN  2022-04-29        2022-05-06            rash  ...   \n",
       "1    NaN  2022-05-05        2022-05-12            rash  ...   \n",
       "2    NaN  2022-04-30        2022-05-13  vesicular rash  ...   \n",
       "3   male         NaN        2022-05-15  vesicular rash  ...   \n",
       "4   male         NaN        2022-05-15  vesicular rash  ...   \n",
       "\n",
       "  Date_hospitalisation isIsolated Date_isolation Outcome  \\\n",
       "0           2022-05-04          Y     2022-05-04     NaN   \n",
       "1           2022-05-06          Y     2022-05-09     NaN   \n",
       "2                  NaN          Y            NaN     NaN   \n",
       "3                  NaN          Y            NaN     NaN   \n",
       "4                  NaN          Y            NaN     NaN   \n",
       "\n",
       "                   Contact_comment Contact_ID  Contact_location  \\\n",
       "0                              NaN        NaN               NaN   \n",
       "1  Index Case of household cluster        3.0         Household   \n",
       "2                              NaN        2.0         Household   \n",
       "3              Under investigation        NaN               NaN   \n",
       "4              Under investigation        NaN               NaN   \n",
       "\n",
       "  hasTravelHistory Travel_history_entry Country_ISO3  \n",
       "0                Y           2022-05-04          GBR  \n",
       "1                N                  NaN          GBR  \n",
       "2                N                  NaN          GBR  \n",
       "3                N                  NaN          GBR  \n",
       "4                N                  NaN          GBR  \n",
       "\n",
       "[5 rows x 21 columns]"
      ]
     },
     "execution_count": 23,
     "metadata": {},
     "output_type": "execute_result"
    }
   ],
   "source": [
    "individual_transformed.head()"
   ]
  },
  {
   "cell_type": "code",
   "execution_count": 15,
   "id": "05ce7252",
   "metadata": {},
   "outputs": [],
   "source": [
    "############################# mp_daily data handling ################################################\n",
    "daily=pd.read_csv(mp_daily)\n",
    "daily_pivoted=pd.melt(daily, id_vars='Country')\n",
    "daily_pivoted.rename(columns = {'variable':'Date_confirmation', 'Country':'Country', 'value':'Confirmed_Cases'}, inplace = True)\n",
    "daily_transformed=daily_pivoted"
   ]
  },
  {
   "cell_type": "code",
   "execution_count": 19,
   "id": "4974d85c",
   "metadata": {},
   "outputs": [
    {
     "data": {
      "text/html": [
       "<div>\n",
       "<style scoped>\n",
       "    .dataframe tbody tr th:only-of-type {\n",
       "        vertical-align: middle;\n",
       "    }\n",
       "\n",
       "    .dataframe tbody tr th {\n",
       "        vertical-align: top;\n",
       "    }\n",
       "\n",
       "    .dataframe thead th {\n",
       "        text-align: right;\n",
       "    }\n",
       "</style>\n",
       "<table border=\"1\" class=\"dataframe\">\n",
       "  <thead>\n",
       "    <tr style=\"text-align: right;\">\n",
       "      <th></th>\n",
       "      <th>Country</th>\n",
       "      <th>Date_confirmation</th>\n",
       "      <th>Confirmed_Cases</th>\n",
       "    </tr>\n",
       "  </thead>\n",
       "  <tbody>\n",
       "    <tr>\n",
       "      <th>0</th>\n",
       "      <td>England</td>\n",
       "      <td>2022-05-06</td>\n",
       "      <td>1</td>\n",
       "    </tr>\n",
       "    <tr>\n",
       "      <th>1</th>\n",
       "      <td>Portugal</td>\n",
       "      <td>2022-05-06</td>\n",
       "      <td>0</td>\n",
       "    </tr>\n",
       "    <tr>\n",
       "      <th>2</th>\n",
       "      <td>Spain</td>\n",
       "      <td>2022-05-06</td>\n",
       "      <td>0</td>\n",
       "    </tr>\n",
       "    <tr>\n",
       "      <th>3</th>\n",
       "      <td>United States</td>\n",
       "      <td>2022-05-06</td>\n",
       "      <td>0</td>\n",
       "    </tr>\n",
       "    <tr>\n",
       "      <th>4</th>\n",
       "      <td>Germany</td>\n",
       "      <td>2022-05-06</td>\n",
       "      <td>0</td>\n",
       "    </tr>\n",
       "  </tbody>\n",
       "</table>\n",
       "</div>"
      ],
      "text/plain": [
       "         Country Date_confirmation  Confirmed_Cases\n",
       "0        England        2022-05-06                1\n",
       "1       Portugal        2022-05-06                0\n",
       "2          Spain        2022-05-06                0\n",
       "3  United States        2022-05-06                0\n",
       "4        Germany        2022-05-06                0"
      ]
     },
     "execution_count": 19,
     "metadata": {},
     "output_type": "execute_result"
    }
   ],
   "source": [
    "daily_transformed.head()"
   ]
  },
  {
   "cell_type": "code",
   "execution_count": 16,
   "id": "c6f82564",
   "metadata": {},
   "outputs": [],
   "source": [
    "############################# mp_worldwide data handling ################################################\n",
    "worldwide_transformed=pd.read_csv(mp_worldwide)"
   ]
  },
  {
   "cell_type": "code",
   "execution_count": 20,
   "id": "cf76acaa",
   "metadata": {},
   "outputs": [
    {
     "data": {
      "text/html": [
       "<div>\n",
       "<style scoped>\n",
       "    .dataframe tbody tr th:only-of-type {\n",
       "        vertical-align: middle;\n",
       "    }\n",
       "\n",
       "    .dataframe tbody tr th {\n",
       "        vertical-align: top;\n",
       "    }\n",
       "\n",
       "    .dataframe thead th {\n",
       "        text-align: right;\n",
       "    }\n",
       "</style>\n",
       "<table border=\"1\" class=\"dataframe\">\n",
       "  <thead>\n",
       "    <tr style=\"text-align: right;\">\n",
       "      <th></th>\n",
       "      <th>Country</th>\n",
       "      <th>Confirmed_Cases</th>\n",
       "      <th>Suspected_Cases</th>\n",
       "      <th>Hospitalized</th>\n",
       "      <th>Travel_History_Yes</th>\n",
       "      <th>Travel_History_No</th>\n",
       "    </tr>\n",
       "  </thead>\n",
       "  <tbody>\n",
       "    <tr>\n",
       "      <th>0</th>\n",
       "      <td>England</td>\n",
       "      <td>287.0</td>\n",
       "      <td>0.0</td>\n",
       "      <td>5.0</td>\n",
       "      <td>2.0</td>\n",
       "      <td>7.0</td>\n",
       "    </tr>\n",
       "    <tr>\n",
       "      <th>1</th>\n",
       "      <td>Portugal</td>\n",
       "      <td>143.0</td>\n",
       "      <td>0.0</td>\n",
       "      <td>0.0</td>\n",
       "      <td>0.0</td>\n",
       "      <td>34.0</td>\n",
       "    </tr>\n",
       "    <tr>\n",
       "      <th>2</th>\n",
       "      <td>Spain</td>\n",
       "      <td>190.0</td>\n",
       "      <td>35.0</td>\n",
       "      <td>10.0</td>\n",
       "      <td>2.0</td>\n",
       "      <td>0.0</td>\n",
       "    </tr>\n",
       "    <tr>\n",
       "      <th>3</th>\n",
       "      <td>United States</td>\n",
       "      <td>27.0</td>\n",
       "      <td>2.0</td>\n",
       "      <td>3.0</td>\n",
       "      <td>14.0</td>\n",
       "      <td>0.0</td>\n",
       "    </tr>\n",
       "    <tr>\n",
       "      <th>4</th>\n",
       "      <td>Canada</td>\n",
       "      <td>80.0</td>\n",
       "      <td>7.0</td>\n",
       "      <td>1.0</td>\n",
       "      <td>1.0</td>\n",
       "      <td>0.0</td>\n",
       "    </tr>\n",
       "  </tbody>\n",
       "</table>\n",
       "</div>"
      ],
      "text/plain": [
       "         Country  Confirmed_Cases  Suspected_Cases  Hospitalized  \\\n",
       "0        England            287.0              0.0           5.0   \n",
       "1       Portugal            143.0              0.0           0.0   \n",
       "2          Spain            190.0             35.0          10.0   \n",
       "3  United States             27.0              2.0           3.0   \n",
       "4         Canada             80.0              7.0           1.0   \n",
       "\n",
       "   Travel_History_Yes  Travel_History_No  \n",
       "0                 2.0                7.0  \n",
       "1                 0.0               34.0  \n",
       "2                 2.0                0.0  \n",
       "3                14.0                0.0  \n",
       "4                 1.0                0.0  "
      ]
     },
     "execution_count": 20,
     "metadata": {},
     "output_type": "execute_result"
    }
   ],
   "source": [
    "worldwide_transformed.head()"
   ]
  },
  {
   "cell_type": "code",
   "execution_count": 17,
   "id": "e151d5bc",
   "metadata": {},
   "outputs": [],
   "source": [
    "############################# mp_casedetection data handling ################################################\n",
    "casedetection=pd.read_csv(mp_casedetection)\n",
    "casedetection.rename(columns={'Hospitalised (Y/N/NA)':'isHospitalised','Isolated (Y/N/NA)':'isIsolated','Travel_history (Y/N/NA)':'hasTravelHistory'},inplace=True)\n",
    "casedetection_transformed=casedetection"
   ]
  },
  {
   "cell_type": "code",
   "execution_count": 21,
   "id": "20a78e89",
   "metadata": {},
   "outputs": [
    {
     "data": {
      "text/html": [
       "<div>\n",
       "<style scoped>\n",
       "    .dataframe tbody tr th:only-of-type {\n",
       "        vertical-align: middle;\n",
       "    }\n",
       "\n",
       "    .dataframe tbody tr th {\n",
       "        vertical-align: top;\n",
       "    }\n",
       "\n",
       "    .dataframe thead th {\n",
       "        text-align: right;\n",
       "    }\n",
       "</style>\n",
       "<table border=\"1\" class=\"dataframe\">\n",
       "  <thead>\n",
       "    <tr style=\"text-align: right;\">\n",
       "      <th></th>\n",
       "      <th>Date_confirmation</th>\n",
       "      <th>Country</th>\n",
       "      <th>City</th>\n",
       "      <th>Age</th>\n",
       "      <th>Gender</th>\n",
       "      <th>Symptoms</th>\n",
       "      <th>isHospitalised</th>\n",
       "      <th>isIsolated</th>\n",
       "      <th>hasTravelHistory</th>\n",
       "    </tr>\n",
       "  </thead>\n",
       "  <tbody>\n",
       "    <tr>\n",
       "      <th>0</th>\n",
       "      <td>2022-05-06</td>\n",
       "      <td>England</td>\n",
       "      <td>London</td>\n",
       "      <td>NaN</td>\n",
       "      <td>NaN</td>\n",
       "      <td>rash</td>\n",
       "      <td>Y</td>\n",
       "      <td>Y</td>\n",
       "      <td>Y</td>\n",
       "    </tr>\n",
       "    <tr>\n",
       "      <th>1</th>\n",
       "      <td>2022-05-12</td>\n",
       "      <td>England</td>\n",
       "      <td>London</td>\n",
       "      <td>NaN</td>\n",
       "      <td>NaN</td>\n",
       "      <td>rash</td>\n",
       "      <td>Y</td>\n",
       "      <td>Y</td>\n",
       "      <td>N</td>\n",
       "    </tr>\n",
       "    <tr>\n",
       "      <th>2</th>\n",
       "      <td>2022-05-13</td>\n",
       "      <td>England</td>\n",
       "      <td>London</td>\n",
       "      <td>NaN</td>\n",
       "      <td>NaN</td>\n",
       "      <td>vesicular rash</td>\n",
       "      <td>N</td>\n",
       "      <td>Y</td>\n",
       "      <td>N</td>\n",
       "    </tr>\n",
       "    <tr>\n",
       "      <th>3</th>\n",
       "      <td>2022-05-15</td>\n",
       "      <td>England</td>\n",
       "      <td>London</td>\n",
       "      <td>NaN</td>\n",
       "      <td>male</td>\n",
       "      <td>vesicular rash</td>\n",
       "      <td>Y</td>\n",
       "      <td>Y</td>\n",
       "      <td>N</td>\n",
       "    </tr>\n",
       "    <tr>\n",
       "      <th>4</th>\n",
       "      <td>2022-05-15</td>\n",
       "      <td>England</td>\n",
       "      <td>London</td>\n",
       "      <td>NaN</td>\n",
       "      <td>male</td>\n",
       "      <td>vesicular rash</td>\n",
       "      <td>Y</td>\n",
       "      <td>Y</td>\n",
       "      <td>N</td>\n",
       "    </tr>\n",
       "  </tbody>\n",
       "</table>\n",
       "</div>"
      ],
      "text/plain": [
       "  Date_confirmation  Country    City  Age Gender        Symptoms  \\\n",
       "0        2022-05-06  England  London  NaN    NaN            rash   \n",
       "1        2022-05-12  England  London  NaN    NaN            rash   \n",
       "2        2022-05-13  England  London  NaN    NaN  vesicular rash   \n",
       "3        2022-05-15  England  London  NaN   male  vesicular rash   \n",
       "4        2022-05-15  England  London  NaN   male  vesicular rash   \n",
       "\n",
       "  isHospitalised isIsolated hasTravelHistory  \n",
       "0              Y          Y                Y  \n",
       "1              Y          Y                N  \n",
       "2              N          Y                N  \n",
       "3              Y          Y                N  \n",
       "4              Y          Y                N  "
      ]
     },
     "execution_count": 21,
     "metadata": {},
     "output_type": "execute_result"
    }
   ],
   "source": [
    "casedetection_transformed.head()"
   ]
  },
  {
   "cell_type": "code",
   "execution_count": 29,
   "id": "6eb22741",
   "metadata": {},
   "outputs": [],
   "source": [
    "connection_string = \"postgres:1204@localhost:5432/monkeypox\"\n",
    "engine = create_engine(f'postgresql://{connection_string}')"
   ]
  },
  {
   "cell_type": "code",
   "execution_count": 30,
   "id": "09ae247d",
   "metadata": {},
   "outputs": [
    {
     "name": "stderr",
     "output_type": "stream",
     "text": [
      "C:\\Users\\vanem\\AppData\\Local\\Temp\\ipykernel_45340\\4162273999.py:1: SADeprecationWarning: The Engine.table_names() method is deprecated and will be removed in a future release.  Please refer to Inspector.get_table_names(). (deprecated since: 1.4)\n",
      "  engine.table_names()\n"
     ]
    },
    {
     "data": {
      "text/plain": [
       "['individual', 'daily', 'worldwide', 'casedetection']"
      ]
     },
     "execution_count": 30,
     "metadata": {},
     "output_type": "execute_result"
    }
   ],
   "source": [
    "engine.table_names()"
   ]
  },
  {
   "cell_type": "code",
   "execution_count": 37,
   "id": "d7287ea8",
   "metadata": {},
   "outputs": [
    {
     "data": {
      "text/plain": [
       "264"
      ]
     },
     "execution_count": 37,
     "metadata": {},
     "output_type": "execute_result"
    }
   ],
   "source": [
    "individual_transformed.to_sql(name='individual', con=engine, if_exists='append', index=True)"
   ]
  },
  {
   "cell_type": "code",
   "execution_count": 38,
   "id": "68bcd234",
   "metadata": {},
   "outputs": [
    {
     "data": {
      "text/plain": [
       "736"
      ]
     },
     "execution_count": 38,
     "metadata": {},
     "output_type": "execute_result"
    }
   ],
   "source": [
    "daily_transformed.to_sql(name='daily', con=engine, if_exists='append', index=True)"
   ]
  },
  {
   "cell_type": "code",
   "execution_count": 42,
   "id": "602f3bb8",
   "metadata": {},
   "outputs": [
    {
     "data": {
      "text/plain": [
       "51"
      ]
     },
     "execution_count": 42,
     "metadata": {},
     "output_type": "execute_result"
    }
   ],
   "source": [
    "worldwide_transformed.to_sql(name='worldwide', con=engine, if_exists='append', index=True)"
   ]
  },
  {
   "cell_type": "code",
   "execution_count": 43,
   "id": "b2f60a81",
   "metadata": {},
   "outputs": [
    {
     "data": {
      "text/plain": [
       "11"
      ]
     },
     "execution_count": 43,
     "metadata": {},
     "output_type": "execute_result"
    }
   ],
   "source": [
    "casedetection_transformed.to_sql(name='detection', con=engine, if_exists='append', index=True)"
   ]
  }
 ],
 "metadata": {
  "interpreter": {
   "hash": "f67272f8226a62d5ad5ad600b8605cb72ba6066dcf629ea2a488df2afb972428"
  },
  "kernelspec": {
   "display_name": "Python 3.10.4 64-bit (windows store)",
   "language": "python",
   "name": "python3"
  },
  "language_info": {
   "codemirror_mode": {
    "name": "ipython",
    "version": 3
   },
   "file_extension": ".py",
   "mimetype": "text/x-python",
   "name": "python",
   "nbconvert_exporter": "python",
   "pygments_lexer": "ipython3",
   "version": "3.10.5"
  }
 },
 "nbformat": 4,
 "nbformat_minor": 5
}
