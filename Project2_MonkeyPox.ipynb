{
 "cells": [
  {
   "cell_type": "code",
   "execution_count": null,
   "metadata": {},
   "outputs": [],
   "source": [
    "Project Name : Monkey Pox Virus\n",
    "Project Team : Vanessa Guzman\n",
    "               Andy de Wind\n",
    "\n",
    "Purpose of the project: Extract , Transform and Load data in order to answer the following questions:\n",
    "\n",
    "    1. Forecast number of monkeypox cases;\n",
    "    2. Explore the demographics and symptoms of the disease\n",
    "    3. Determine which cities/countries have the most cases \n",
    "    4. Analyse travel information of infected classmethod\n",
    "\n",
    "Method:\n",
    "      1. Collect datasets that will help in answering the above questions\n",
    "      2. Load the datasets into Pandas dataframes\n",
    "      3. Transform the loaded data into separate data frames to assist in answering the above questions\n",
    "      4. Load the transformed data frames into Postgres database tables to enable queries to be run.\n",
    "\n",
    "DataSets:\n",
    "      1. Global Monkey Pox cases : https://www.kaggle.com/datasets/andrewmvd/global-monkeypox-cases?resource=download\n",
    "      2. Cities Population : https://www.kaggle.com/datasets/andrewmvd/global-monkeypox-cases?resource=download\n"
   ]
  }
 ],
 "metadata": {
  "language_info": {
   "name": "python"
  },
  "orig_nbformat": 4
 },
 "nbformat": 4,
 "nbformat_minor": 2
}
